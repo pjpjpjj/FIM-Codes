{
 "cells": [
  {
   "cell_type": "code",
   "execution_count": 161,
   "metadata": {},
   "outputs": [],
   "source": [
    "import matplotlib.pyplot as plt\n",
    "import numpy as np\n",
    "import pandas as pd\n",
    "from category_encoders import OneHotEncoder\n",
    "from sklearn.linear_model import LinearRegression, Ridge, Lasso\n",
    "from sklearn.metrics import mean_absolute_error, r2_score\n",
    "from sklearn.pipeline import make_pipeline\n",
    "from sklearn.model_selection import train_test_split\n",
    "from sklearn.compose import ColumnTransformer\n",
    "import seaborn as sns"
   ]
  },
  {
   "cell_type": "markdown",
   "metadata": {},
   "source": [
    "# Prepare Data"
   ]
  },
  {
   "cell_type": "markdown",
   "metadata": {},
   "source": [
    "## Data Wrangle"
   ]
  },
  {
   "cell_type": "code",
   "execution_count": 155,
   "metadata": {},
   "outputs": [],
   "source": [
    "features = ['LotArea', 'OverallQual', 'OverallCond', 'YearBuilt', 'YearRemodAdd', \n",
    "            'Finished_basement', 'BsmtUnfSF', 'TotalBsmtSF', '1stFlrSF', '2ndFlrSF',\n",
    "            'GrLivArea', 'FullBath', 'HalfBath','BedroomAbvGr' ,'TotRmsAbvGrd', 'Fireplaces', 'GarageCars', 'GarageArea', \n",
    "            'WoodDeckSF', 'OpenPorchSF', 'EnclosedPorch', 'Neighborhood', 'BsmtQual']\n",
    "target = 'SalePrice'\n",
    "\n",
    "df = pd.read_csv('IA_House_Price_Original_Data.csv')\n",
    "\n",
    "df.fillna(0, inplace=True)\n",
    "\n",
    "# compute Finished_basement\n",
    "df['Finished_basement'] = df['BsmtFinSF1'] + df['BsmtFinSF2']\n",
    "\n",
    "# transform bsmt_qual into numeric value\n",
    "bsmt_qual_mapping = {0: 0, 'Po': 1, 'Fa': 2, 'TA': 3, 'Gd': 4, 'Ex': 5}\n",
    "df['BsmtQual'] = df['BsmtQual'].map(bsmt_qual_mapping)\n",
    "\n",
    "#\n",
    "x_std_list = ['LotArea', 'OverallQual', 'OverallCond', 'YearBuilt', 'YearRemodAdd', \n",
    "            'Finished_basement', 'BsmtUnfSF', 'TotalBsmtSF', '1stFlrSF', '2ndFlrSF',\n",
    "            'GrLivArea', 'FullBath', 'HalfBath','BedroomAbvGr' ,'TotRmsAbvGrd', 'Fireplaces', 'GarageCars', 'GarageArea', \n",
    "            'WoodDeckSF', 'OpenPorchSF', 'EnclosedPorch', 'BsmtQual', 'SalePrice']\n",
    "for col in x_std_list:\n",
    "    mean = df[col].mean()\n",
    "    std = df[col].std()\n",
    "    df[col] = (df[col] - mean) / std\n",
    "\n",
    "\n",
    "\n",
    "# Creating One hot vector for Neighborhood\n",
    "# Separate Neighborhood\n",
    "continuous_features = [col for col in features if col != 'Neighborhood']\n",
    "categorical_features = ['Neighborhood']\n",
    "one_hot_encoder = OneHotEncoder()\n",
    "preprocessor = ColumnTransformer(\n",
    "    transformers=[\n",
    "        ('num', 'passthrough', continuous_features),   # Pass continuous features as they are\n",
    "        ('cat', one_hot_encoder, categorical_features) # Apply OneHotEncoder to 'Neighborhood'\n",
    "    ]\n",
    ")\n",
    "X = df[features]\n",
    "y = df[target]\n",
    "X_transformed = preprocessor.fit_transform(X)\n"
   ]
  },
  {
   "cell_type": "markdown",
   "metadata": {},
   "source": [
    "## Split"
   ]
  },
  {
   "cell_type": "code",
   "execution_count": 156,
   "metadata": {},
   "outputs": [
    {
     "name": "stdout",
     "output_type": "stream",
     "text": [
      "Training set size: (1800, 47), Validation set size: (600, 47), Test set size: (508, 47)\n"
     ]
    }
   ],
   "source": [
    "X_train, X_temp, y_train, y_temp = train_test_split(X_transformed, y, train_size=1800, random_state=42)\n",
    "\n",
    "X_val, X_test, y_val, y_test = train_test_split(X_temp, y_temp,test_size=(len(df)-1800-600), random_state=42)\n",
    "\n",
    "encoded_feature_names = preprocessor.named_transformers_['cat'].get_feature_names_out(categorical_features)\n",
    "\n",
    "# Combine continuous and one-hot encoded column names\n",
    "all_feature_names = continuous_features + list(encoded_feature_names)\n",
    "\n",
    "# Convert the training, validation, and test features back into DataFrames\n",
    "X_train_df = pd.DataFrame(X_train, columns=all_feature_names)\n",
    "X_val_df = pd.DataFrame(X_val, columns=all_feature_names)\n",
    "X_test_df = pd.DataFrame(X_test, columns=all_feature_names)\n",
    "\n",
    "print(f\"Training set size: {X_train_df.shape}, Validation set size: {X_val_df.shape}, Test set size: {X_test_df.shape}\")\n"
   ]
  },
  {
   "cell_type": "markdown",
   "metadata": {},
   "source": [
    "## Explore"
   ]
  },
  {
   "cell_type": "markdown",
   "metadata": {},
   "source": [
    "### price"
   ]
  },
  {
   "cell_type": "code",
   "execution_count": null,
   "metadata": {},
   "outputs": [],
   "source": [
    "print(df[target].describe())\n",
    "sns.displot(df[target])"
   ]
  },
  {
   "cell_type": "markdown",
   "metadata": {},
   "source": [
    "### neighborhood"
   ]
  },
  {
   "cell_type": "code",
   "execution_count": null,
   "metadata": {},
   "outputs": [],
   "source": [
    "# intercept = model.named_steps['ridge'].intercept_\n",
    "# coefficients = model.named_steps['ridge'].coef_\n",
    "\n",
    "# feature_names = model.named_steps['onehotencoder'].get_feature_names()\n",
    "# feat_imp = pd.Series(coefficients, index=feature_names)\n",
    "# feat_imp.sort_values(key=abs).tail(15).plot(kind='barh') #obtain the top 15 neighborhoods that have greater absolute(coef_)\n",
    "# plt.xlabel('Importance [USD]')\n",
    "# plt.ylabel('Feature')\n",
    "# plt.title('Feature Importance for Apt Price')"
   ]
  },
  {
   "cell_type": "markdown",
   "metadata": {},
   "source": [
    "# Biuld Model"
   ]
  },
  {
   "cell_type": "code",
   "execution_count": 163,
   "metadata": {},
   "outputs": [],
   "source": [
    "def MODEL(X, y, para, type):\n",
    "    '''Run Ridge or Lasso Regression, return model itself'''\n",
    "    if type == 'Ridge':\n",
    "        model = Ridge(alpha = para)\n",
    "        model.fit(X, y)\n",
    "    if type == 'Lasso':\n",
    "        model = Lasso(alpha = para)\n",
    "        model.fit(X, y)\n",
    "    return model\n",
    "\n",
    "def MAE(X, y, model):\n",
    "    '''Run X on model and get predicted y, calculate mean_absolute_error'''\n",
    "    y_pred = model.predict(X)\n",
    "    mae = mean_absolute_error(y, y_pred)\n",
    "    return mae\n",
    "\n",
    "def R2(X, y, model):\n",
    "    '''Run X on model and get predicted y, calculate r square'''\n",
    "    y_pred = model.predict(X)\n",
    "    r2 = r2_score(y, y_pred)\n",
    "    return r2"
   ]
  },
  {
   "cell_type": "markdown",
   "metadata": {},
   "source": [
    "## Ridge Regression"
   ]
  },
  {
   "cell_type": "code",
   "execution_count": 166,
   "metadata": {},
   "outputs": [
    {
     "name": "stdout",
     "output_type": "stream",
     "text": [
      "{'Ridge_0.1': Ridge(alpha=0.1), 'Ridge_0.3': Ridge(alpha=0.3), 'Ridge_0.6': Ridge(alpha=0.6)}\n",
      "[0.23865776911304362, 0.238680839744581, 0.23875604250280294]\n",
      "[0.876146328515824, 0.8761189592575097, 0.876063503237191]\n"
     ]
    }
   ],
   "source": [
    "model_dict = {}\n",
    "mae_list = []\n",
    "r2_list = []\n",
    "\n",
    "Ridge_alpha = [0.10, 0.30, 0.60]\n",
    "\n",
    "for alpha in Ridge_alpha:\n",
    "    model = MODEL(X_train_df, y_train, alpha, type = 'Ridge')\n",
    "    model_dict ['Ridge_{}'.format(alpha)] = model\n",
    "\n",
    "print(model_dict)\n",
    "for model in model_dict.keys():\n",
    "    mae = MAE(X_val_df, y_val, model_dict[model])\n",
    "    mae_list.append(mae)\n",
    "\n",
    "for model in model_dict.keys():\n",
    "    r2 = R2(X_val_df, y_val, model_dict[model])\n",
    "    r2_list.append(r2)\n",
    "print(mae_list)\n",
    "print(r2_list)"
   ]
  },
  {
   "cell_type": "markdown",
   "metadata": {},
   "source": [
    "## Lasso Regression"
   ]
  },
  {
   "cell_type": "code",
   "execution_count": 167,
   "metadata": {},
   "outputs": [
    {
     "name": "stdout",
     "output_type": "stream",
     "text": [
      "{'Ridge_0.1': Ridge(alpha=0.1), 'Ridge_0.3': Ridge(alpha=0.3), 'Ridge_0.6': Ridge(alpha=0.6), 'Lasso_0.02': Lasso(alpha=0.02), 'Lasso_0.06': Lasso(alpha=0.06), 'Lasso_0.1': Lasso(alpha=0.1)}\n",
      "[0.23865776911304362, 0.238680839744581, 0.23875604250280294, 0.27579459343707263, 0.28434590939251325, 0.29686077635091607]\n",
      "[0.876146328515824, 0.8761189592575097, 0.876063503237191, 0.8411753430308408, 0.8227990017010182, 0.8026640083214707]\n"
     ]
    }
   ],
   "source": [
    "Lasso_alpha = [0.02, 0.06, 0.10]\n",
    "\n",
    "for alpha in Lasso_alpha:\n",
    "    model = MODEL(X_train_df, y_train, alpha, type = 'Lasso')\n",
    "    model_dict ['Lasso_{}'.format(alpha)] = model\n",
    "\n",
    "print(model_dict)\n",
    "i = list(model_dict.keys())\n",
    "for model in i[3:]:\n",
    "    mae = MAE(X_val_df, y_val, model_dict[model])\n",
    "    mae_list.append(mae)\n",
    "\n",
    "for model in i[3:]:\n",
    "    r2 = R2(X_val_df, y_val, model_dict[model])\n",
    "    r2_list.append(r2)\n",
    "\n",
    "print(mae_list)\n",
    "print(r2_list)"
   ]
  }
 ],
 "metadata": {
  "kernelspec": {
   "display_name": "Worldquant",
   "language": "python",
   "name": "python3"
  },
  "language_info": {
   "codemirror_mode": {
    "name": "ipython",
    "version": 3
   },
   "file_extension": ".py",
   "mimetype": "text/x-python",
   "name": "python",
   "nbconvert_exporter": "python",
   "pygments_lexer": "ipython3",
   "version": "3.10.13"
  }
 },
 "nbformat": 4,
 "nbformat_minor": 2
}
